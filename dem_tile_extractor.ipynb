{
 "cells": [
  {
   "cell_type": "code",
   "execution_count": null,
   "metadata": {},
   "outputs": [],
   "source": [
    "import os\n",
    "import rasterio\n",
    "\n",
    "# Only read the big honkin DEM once and pass it to each extraction function??\n",
    "vr_3m = rasterio.open(\"vr_3m.tif\")\n",
    "\n",
    "for fname in os.listdir(\".\"):\n",
    "        if \".shp\" in fname and \"Tuscarora\" not in fname:\n",
    "        print(\"Extracting my tile mask on \" + (os.path.join(\".\", fname)))\n",
    "        dem_tile_extractor(fname, vr_3m) #Right? gotta pass it these two things?\n"
   ]
  },
  {
   "cell_type": "code",
   "execution_count": null,
   "metadata": {},
   "outputs": [],
   "source": [
    "import rasterio\n",
    "from osgeo import gdal\n",
    "from matplotlib import pyplot as plt\n",
    "import numpy as np\n",
    "import fiona\n",
    "import rasterio\n",
    "import rasterio.mask"
   ]
  },
  {
   "cell_type": "code",
   "execution_count": null,
   "metadata": {},
   "outputs": [],
   "source": [
    "\n",
    "def dem_tile_extractor(fname, vr_3m):\n",
    "    # Get DEM number cause we're gonna call the final DEM that\n",
    "    position=fname.index('.')\n",
    "    dem_number=RasterFile[0:position]\n",
    "    print(\"Now extracting DEM number: \" + dem_number)\n",
    "    \n",
    "    with fiona.open(fname, \"r\") as shapefile:\n",
    "        tile_mask = [feature[\"geometry\"] for feature in shapefile]\n",
    "\n",
    "    tile_dem, out_transform = rasterio.mask.mask(vr_3m, tile_mask, crop=True)\n",
    "    out_meta = vr_3m.meta\n",
    "    out_meta.update({\"driver\": \"GTiff\",\n",
    "                      \"height\": tile_dem.shape[1],\n",
    "                      \"width\": tile_dem.shape[2],\n",
    "                      \"transform\": out_transform})\n",
    "\n",
    "    with rasterio.open(\"tile_\" + dem_number + '.tif', 'w', **out_meta) as dst:\n",
    "        dst.write(tile_dem)"
   ]
  },
  {
   "cell_type": "code",
   "execution_count": null,
   "metadata": {},
   "outputs": [],
   "source": []
  },
  {
   "cell_type": "code",
   "execution_count": null,
   "metadata": {},
   "outputs": [],
   "source": []
  },
  {
   "cell_type": "code",
   "execution_count": 1,
   "metadata": {},
   "outputs": [],
   "source": [
    "import rasterio\n",
    "from osgeo import gdal\n",
    "from matplotlib import pyplot as plt\n",
    "import numpy as np\n",
    "import fiona\n",
    "import rasterio\n",
    "import rasterio.mask"
   ]
  },
  {
   "cell_type": "code",
   "execution_count": 2,
   "metadata": {},
   "outputs": [],
   "source": [
    "vr_3m = rasterio.open(\"vr_3m.tif\")\n",
    "fname = \"0.shp\""
   ]
  },
  {
   "cell_type": "code",
   "execution_count": 3,
   "metadata": {},
   "outputs": [],
   "source": [
    "with fiona.open(fname, \"r\") as shapefile:\n",
    "    tile_mask = [feature[\"geometry\"] for feature in shapefile]\n",
    "\n",
    "tile_dem, out_transform = rasterio.mask.mask(vr_3m, tile_mask, crop=True)\n",
    "out_meta = vr_3m.meta\n",
    "out_meta.update({\"driver\": \"GTiff\",\n",
    "                  \"height\": tile_dem.shape[1],\n",
    "                  \"width\": tile_dem.shape[2],\n",
    "                  \"transform\": out_transform})\n",
    "\n",
    "with rasterio.open('test_extract.tif', 'w', **out_meta) as dst:\n",
    "    dst.write(tile_dem)"
   ]
  },
  {
   "cell_type": "code",
   "execution_count": 4,
   "metadata": {},
   "outputs": [],
   "source": [
    "with rasterio.open('test_extract.tif', 'w', **out_meta) as dst:\n",
    "    dst.write(tile_dem)"
   ]
  },
  {
   "cell_type": "code",
   "execution_count": null,
   "metadata": {},
   "outputs": [],
   "source": [
    "tile_dem_read = rasterio.open('test_extract.tif')\n",
    "plt.imshow(tile_dem_read.read(1))"
   ]
  },
  {
   "cell_type": "code",
   "execution_count": null,
   "metadata": {},
   "outputs": [],
   "source": []
  }
 ],
 "metadata": {
  "kernelspec": {
   "display_name": "Python 3",
   "language": "python",
   "name": "python3"
  },
  "language_info": {
   "codemirror_mode": {
    "name": "ipython",
    "version": 3
   },
   "file_extension": ".py",
   "mimetype": "text/x-python",
   "name": "python",
   "nbconvert_exporter": "python",
   "pygments_lexer": "ipython3",
   "version": "3.7.8"
  }
 },
 "nbformat": 4,
 "nbformat_minor": 4
}
