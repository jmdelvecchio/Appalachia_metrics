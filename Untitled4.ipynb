{
 "cells": [
  {
   "cell_type": "code",
   "execution_count": 1,
   "metadata": {},
   "outputs": [],
   "source": [
    "import pandas as pd\n",
    "import numpy as np\n",
    "import matplotlib.pyplot as plt"
   ]
  },
  {
   "cell_type": "code",
   "execution_count": 39,
   "metadata": {},
   "outputs": [],
   "source": [
    "df = pd.read_csv(\"tile_0_stats.csv\")"
   ]
  },
  {
   "cell_type": "code",
   "execution_count": 40,
   "metadata": {},
   "outputs": [
    {
     "data": {
      "text/html": [
       "<div>\n",
       "<style scoped>\n",
       "    .dataframe tbody tr th:only-of-type {\n",
       "        vertical-align: middle;\n",
       "    }\n",
       "\n",
       "    .dataframe tbody tr th {\n",
       "        vertical-align: top;\n",
       "    }\n",
       "\n",
       "    .dataframe thead th {\n",
       "        text-align: right;\n",
       "    }\n",
       "</style>\n",
       "<table border=\"1\" class=\"dataframe\">\n",
       "  <thead>\n",
       "    <tr style=\"text-align: right;\">\n",
       "      <th></th>\n",
       "      <th>Bin</th>\n",
       "      <th>Slp_all</th>\n",
       "      <th>Curv_all</th>\n",
       "      <th>Slp_tusc</th>\n",
       "      <th>Curv_tusc</th>\n",
       "      <th>Slp_ntsc</th>\n",
       "      <th>Curv_ntusc</th>\n",
       "      <th>topleftx</th>\n",
       "      <th>toplefty</th>\n",
       "      <th>ref</th>\n",
       "    </tr>\n",
       "  </thead>\n",
       "  <tbody>\n",
       "    <tr>\n",
       "      <th>0</th>\n",
       "      <td>10.0</td>\n",
       "      <td>0.035768</td>\n",
       "      <td>-0.016719</td>\n",
       "      <td>0.126953</td>\n",
       "      <td>-0.068004</td>\n",
       "      <td>0.034945</td>\n",
       "      <td>-0.016307</td>\n",
       "      <td>244568.45</td>\n",
       "      <td>4447990.5</td>\n",
       "      <td>PROJCS[\"NAD83 / UTM zone 18N\",GEOGCS[\"NAD83\",</td>\n",
       "    </tr>\n",
       "    <tr>\n",
       "      <th>1</th>\n",
       "      <td>20.0</td>\n",
       "      <td>0.073124</td>\n",
       "      <td>-0.010937</td>\n",
       "      <td>0.263729</td>\n",
       "      <td>-0.035882</td>\n",
       "      <td>0.071401</td>\n",
       "      <td>-0.010616</td>\n",
       "      <td>244568.45</td>\n",
       "      <td>4447990.5</td>\n",
       "      <td>PROJCS[\"NAD83 / UTM zone 18N\",GEOGCS[\"NAD83\",</td>\n",
       "    </tr>\n",
       "    <tr>\n",
       "      <th>2</th>\n",
       "      <td>30.0</td>\n",
       "      <td>0.103290</td>\n",
       "      <td>-0.007581</td>\n",
       "      <td>0.337875</td>\n",
       "      <td>-0.018404</td>\n",
       "      <td>0.100829</td>\n",
       "      <td>-0.007399</td>\n",
       "      <td>244568.45</td>\n",
       "      <td>4447990.5</td>\n",
       "      <td>PROJCS[\"NAD83 / UTM zone 18N\",GEOGCS[\"NAD83\",</td>\n",
       "    </tr>\n",
       "    <tr>\n",
       "      <th>3</th>\n",
       "      <td>40.0</td>\n",
       "      <td>0.130693</td>\n",
       "      <td>-0.006715</td>\n",
       "      <td>0.389368</td>\n",
       "      <td>-0.011134</td>\n",
       "      <td>0.127570</td>\n",
       "      <td>-0.006637</td>\n",
       "      <td>244568.45</td>\n",
       "      <td>4447990.5</td>\n",
       "      <td>PROJCS[\"NAD83 / UTM zone 18N\",GEOGCS[\"NAD83\",</td>\n",
       "    </tr>\n",
       "    <tr>\n",
       "      <th>4</th>\n",
       "      <td>50.0</td>\n",
       "      <td>0.153085</td>\n",
       "      <td>-0.005930</td>\n",
       "      <td>0.409854</td>\n",
       "      <td>-0.007136</td>\n",
       "      <td>0.149689</td>\n",
       "      <td>-0.005910</td>\n",
       "      <td>244568.45</td>\n",
       "      <td>4447990.5</td>\n",
       "      <td>PROJCS[\"NAD83 / UTM zone 18N\",GEOGCS[\"NAD83\",</td>\n",
       "    </tr>\n",
       "    <tr>\n",
       "      <th>...</th>\n",
       "      <td>...</td>\n",
       "      <td>...</td>\n",
       "      <td>...</td>\n",
       "      <td>...</td>\n",
       "      <td>...</td>\n",
       "      <td>...</td>\n",
       "      <td>...</td>\n",
       "      <td>...</td>\n",
       "      <td>...</td>\n",
       "      <td>...</td>\n",
       "    </tr>\n",
       "    <tr>\n",
       "      <th>130</th>\n",
       "      <td>5000000.0</td>\n",
       "      <td>0.024616</td>\n",
       "      <td>0.025355</td>\n",
       "      <td>NaN</td>\n",
       "      <td>NaN</td>\n",
       "      <td>0.024616</td>\n",
       "      <td>0.025355</td>\n",
       "      <td>244568.45</td>\n",
       "      <td>4447990.5</td>\n",
       "      <td>PROJCS[\"NAD83 / UTM zone 18N\",GEOGCS[\"NAD83\",</td>\n",
       "    </tr>\n",
       "    <tr>\n",
       "      <th>131</th>\n",
       "      <td>6000000.0</td>\n",
       "      <td>0.028902</td>\n",
       "      <td>0.028401</td>\n",
       "      <td>NaN</td>\n",
       "      <td>NaN</td>\n",
       "      <td>0.028902</td>\n",
       "      <td>0.028401</td>\n",
       "      <td>244568.45</td>\n",
       "      <td>4447990.5</td>\n",
       "      <td>PROJCS[\"NAD83 / UTM zone 18N\",GEOGCS[\"NAD83\",</td>\n",
       "    </tr>\n",
       "    <tr>\n",
       "      <th>132</th>\n",
       "      <td>7000000.0</td>\n",
       "      <td>0.011671</td>\n",
       "      <td>0.005191</td>\n",
       "      <td>NaN</td>\n",
       "      <td>NaN</td>\n",
       "      <td>0.011671</td>\n",
       "      <td>0.005191</td>\n",
       "      <td>244568.45</td>\n",
       "      <td>4447990.5</td>\n",
       "      <td>PROJCS[\"NAD83 / UTM zone 18N\",GEOGCS[\"NAD83\",</td>\n",
       "    </tr>\n",
       "    <tr>\n",
       "      <th>133</th>\n",
       "      <td>8000000.0</td>\n",
       "      <td>0.028340</td>\n",
       "      <td>0.031604</td>\n",
       "      <td>NaN</td>\n",
       "      <td>NaN</td>\n",
       "      <td>0.028340</td>\n",
       "      <td>0.031604</td>\n",
       "      <td>244568.45</td>\n",
       "      <td>4447990.5</td>\n",
       "      <td>PROJCS[\"NAD83 / UTM zone 18N\",GEOGCS[\"NAD83\",</td>\n",
       "    </tr>\n",
       "    <tr>\n",
       "      <th>134</th>\n",
       "      <td>9000000.0</td>\n",
       "      <td>0.023327</td>\n",
       "      <td>0.026254</td>\n",
       "      <td>NaN</td>\n",
       "      <td>NaN</td>\n",
       "      <td>0.023327</td>\n",
       "      <td>0.026254</td>\n",
       "      <td>244568.45</td>\n",
       "      <td>4447990.5</td>\n",
       "      <td>PROJCS[\"NAD83 / UTM zone 18N\",GEOGCS[\"NAD83\",</td>\n",
       "    </tr>\n",
       "  </tbody>\n",
       "</table>\n",
       "<p>135 rows × 10 columns</p>\n",
       "</div>"
      ],
      "text/plain": [
       "           Bin   Slp_all  Curv_all  Slp_tusc  Curv_tusc  Slp_ntsc  Curv_ntusc  \\\n",
       "0         10.0  0.035768 -0.016719  0.126953  -0.068004  0.034945   -0.016307   \n",
       "1         20.0  0.073124 -0.010937  0.263729  -0.035882  0.071401   -0.010616   \n",
       "2         30.0  0.103290 -0.007581  0.337875  -0.018404  0.100829   -0.007399   \n",
       "3         40.0  0.130693 -0.006715  0.389368  -0.011134  0.127570   -0.006637   \n",
       "4         50.0  0.153085 -0.005930  0.409854  -0.007136  0.149689   -0.005910   \n",
       "..         ...       ...       ...       ...        ...       ...         ...   \n",
       "130  5000000.0  0.024616  0.025355       NaN        NaN  0.024616    0.025355   \n",
       "131  6000000.0  0.028902  0.028401       NaN        NaN  0.028902    0.028401   \n",
       "132  7000000.0  0.011671  0.005191       NaN        NaN  0.011671    0.005191   \n",
       "133  8000000.0  0.028340  0.031604       NaN        NaN  0.028340    0.031604   \n",
       "134  9000000.0  0.023327  0.026254       NaN        NaN  0.023327    0.026254   \n",
       "\n",
       "      topleftx   toplefty                                            ref  \n",
       "0    244568.45  4447990.5  PROJCS[\"NAD83 / UTM zone 18N\",GEOGCS[\"NAD83\",  \n",
       "1    244568.45  4447990.5  PROJCS[\"NAD83 / UTM zone 18N\",GEOGCS[\"NAD83\",  \n",
       "2    244568.45  4447990.5  PROJCS[\"NAD83 / UTM zone 18N\",GEOGCS[\"NAD83\",  \n",
       "3    244568.45  4447990.5  PROJCS[\"NAD83 / UTM zone 18N\",GEOGCS[\"NAD83\",  \n",
       "4    244568.45  4447990.5  PROJCS[\"NAD83 / UTM zone 18N\",GEOGCS[\"NAD83\",  \n",
       "..         ...        ...                                            ...  \n",
       "130  244568.45  4447990.5  PROJCS[\"NAD83 / UTM zone 18N\",GEOGCS[\"NAD83\",  \n",
       "131  244568.45  4447990.5  PROJCS[\"NAD83 / UTM zone 18N\",GEOGCS[\"NAD83\",  \n",
       "132  244568.45  4447990.5  PROJCS[\"NAD83 / UTM zone 18N\",GEOGCS[\"NAD83\",  \n",
       "133  244568.45  4447990.5  PROJCS[\"NAD83 / UTM zone 18N\",GEOGCS[\"NAD83\",  \n",
       "134  244568.45  4447990.5  PROJCS[\"NAD83 / UTM zone 18N\",GEOGCS[\"NAD83\",  \n",
       "\n",
       "[135 rows x 10 columns]"
      ]
     },
     "execution_count": 40,
     "metadata": {},
     "output_type": "execute_result"
    }
   ],
   "source": [
    "df"
   ]
  },
  {
   "cell_type": "code",
   "execution_count": 41,
   "metadata": {},
   "outputs": [
    {
     "data": {
      "image/png": "[encoded data removed]",
      "text/plain": [
       "<Figure size 432x288 with 1 Axes>"
      ]
     },
     "metadata": {
      "needs_background": "light"
     },
     "output_type": "display_data"
    }
   ],
   "source": [
    "plt.plot(df['Bin'],df['Slp_tusc'],'o')\n",
    "plt.plot(df['Bin'],df['Slp_ntsc'],'o')\n",
    "plt.xscale('log')"
   ]
  },
  {
   "cell_type": "code",
   "execution_count": 42,
   "metadata": {},
   "outputs": [
    {
     "data": {
      "image/png": "[encoded data removed]",
      "text/plain": [
       "<Figure size 432x288 with 1 Axes>"
      ]
     },
     "metadata": {
      "needs_background": "light"
     },
     "output_type": "display_data"
    }
   ],
   "source": [
    "plt.plot(df['Bin'],df['Curv_tusc'],'o')\n",
    "plt.plot(df['Bin'],df['Curv_ntusc'],'o')\n",
    "plt.xscale('log')"
   ]
  },
  {
   "cell_type": "code",
   "execution_count": null,
   "metadata": {},
   "outputs": [],
   "source": []
  }
 ],
 "metadata": {
  "kernelspec": {
   "display_name": "Python 3",
   "language": "python",
   "name": "python3"
  },
  "language_info": {
   "codemirror_mode": {
    "name": "ipython",
    "version": 3
   },
   "file_extension": ".py",
   "mimetype": "text/x-python",
   "name": "python",
   "nbconvert_exporter": "python",
   "pygments_lexer": "ipython3",
   "version": "3.7.8"
  }
 },
 "nbformat": 4,
 "nbformat_minor": 4
}
